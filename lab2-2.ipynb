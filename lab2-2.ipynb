{
 "cells": [
  {
   "cell_type": "markdown",
   "metadata": {},
   "source": [
    "##### 1) Calculate circumference and area of a circle from its diameter (not radius)"
   ]
  },
  {
   "cell_type": "code",
   "execution_count": 1,
   "metadata": {},
   "outputs": [
    {
     "name": "stdout",
     "output_type": "stream",
     "text": [
      "Circumference : 21.991148575128552\n",
      "Area : 38.48451000647496\n"
     ]
    }
   ],
   "source": [
    "import math\n",
    "\n",
    "def cir(dia):\n",
    "    r = dia / 2\n",
    "    return 2 * math.pi * r\n",
    "\n",
    "def area(dia):\n",
    "    r = dia / 2\n",
    "    return math.pi * r ** 2\n",
    "\n",
    "dia = int(input(\"Input diameter : \"))\n",
    "print(\"Circumference :\", cir(dia))\n",
    "print(\"Area :\", area(dia))"
   ]
  },
  {
   "cell_type": "markdown",
   "metadata": {},
   "source": [
    "##### 2) Calculate Body Mass Index (BMI) from weight and height"
   ]
  },
  {
   "cell_type": "code",
   "execution_count": 2,
   "metadata": {},
   "outputs": [
    {
     "name": "stdout",
     "output_type": "stream",
     "text": [
      "Your BMI is 25.099501595611173\n"
     ]
    }
   ],
   "source": [
    "def bmi(w, h):\n",
    "    return w / (h / 100) ** 2\n",
    "\n",
    "w = int(input(\"Input weight(kg) : \"))\n",
    "h = int(input(\"Input height(cm) : \"))\n",
    "print(\"Your BMI is\", bmi(w, h))"
   ]
  },
  {
   "cell_type": "markdown",
   "metadata": {},
   "source": [
    "##### 3) คํานวณพื้นที่ของที่ดินรูปสี่เหลี่ยม จากความกว้างและความยาว หน่วยเป็นเมตร แสดงพื้นที่ในหน่วยตารางเมตร และตารางวา"
   ]
  },
  {
   "cell_type": "code",
   "execution_count": 3,
   "metadata": {},
   "outputs": [
    {
     "name": "stdout",
     "output_type": "stream",
     "text": [
      "The area is 20 square meter\n",
      "And 5.0 square wa\n"
     ]
    }
   ],
   "source": [
    "def area_m(w, l):\n",
    "    return w * l\n",
    "\n",
    "def area_wa(w, l):\n",
    "    return (w * l) * 0.25\n",
    "\n",
    "w = int(input(\"Input width(m) :\"))\n",
    "l = int(input(\"Input length(m) :\"))\n",
    "print(\"The area is\", area_m(w, l), \"square meter\")\n",
    "print(\"And\", area_wa(w, l), \"square wa\")"
   ]
  },
  {
   "cell_type": "markdown",
   "metadata": {},
   "source": [
    "##### Extra\n",
    "Write a Python program that contains 2 functions :\n",
    "1) localf : Assign a value to variable \"test\" then print it\n",
    "2) globalf : Print the variable \"test\"\n",
    "\n",
    "Assign a different value to variable \"test\" outside of the functions then call both functions in order and see the result."
   ]
  },
  {
   "cell_type": "code",
   "execution_count": 8,
   "metadata": {},
   "outputs": [
    {
     "name": "stdout",
     "output_type": "stream",
     "text": [
      "Local : 69\n",
      "Global : 420\n"
     ]
    }
   ],
   "source": [
    "def localf():\n",
    "    test = 69\n",
    "    print(\"Local :\", test)\n",
    "\n",
    "def globalf():\n",
    "    print(\"Global :\", test)\n",
    "\n",
    "test = 420\n",
    "localf()\n",
    "globalf()"
   ]
  }
 ],
 "metadata": {
  "kernelspec": {
   "display_name": "Python 3.10.5 64-bit (windows store)",
   "language": "python",
   "name": "python3"
  },
  "language_info": {
   "codemirror_mode": {
    "name": "ipython",
    "version": 3
   },
   "file_extension": ".py",
   "mimetype": "text/x-python",
   "name": "python",
   "nbconvert_exporter": "python",
   "pygments_lexer": "ipython3",
   "version": "3.10.5"
  },
  "orig_nbformat": 4,
  "vscode": {
   "interpreter": {
    "hash": "2192d5d63de93974b6909ff77b922a80909db77769fde9f47799ca66e63e3d8d"
   }
  }
 },
 "nbformat": 4,
 "nbformat_minor": 2
}
