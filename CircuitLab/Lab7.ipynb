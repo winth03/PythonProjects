{
 "cells": [
  {
   "cell_type": "code",
   "execution_count": 2,
   "metadata": {},
   "outputs": [],
   "source": [
    "# Python Demo Code\n",
    "# Date: 2023-01-25\n",
    "from sympy import *\n",
    "from sympy.assumptions import *\n",
    "import numpy as np\n",
    "import matplotlib.pyplot as plt\n",
    "from IPython.display import Math, Latex, display"
   ]
  },
  {
   "cell_type": "code",
   "execution_count": 3,
   "metadata": {},
   "outputs": [],
   "source": [
    "# Define the variables and functions\n",
    "t = Symbol('t')\n",
    "R, L, C = symbols('R L C',positive=True) # circuit's parameters\n",
    "v_C, i_L = symbols('v_C i_L', cls=Function)\n",
    "# Define the differential equations\n",
    "eq1 = Eq(Derivative(v_C(t), t), -i_L(t)/C)\n",
    "eq2 = Eq(Derivative(i_L(t), t), v_C(t)/L - i_L(t)*R/L)\n",
    "eqn = (eq1, eq2)"
   ]
  },
  {
   "cell_type": "code",
   "execution_count": 5,
   "metadata": {},
   "outputs": [
    {
     "data": {
      "text/latex": [
       "$\\displaystyle v_{C}{\\left(t \\right)} = \\frac{C_{1} \\left(\\sqrt{C} R - \\sqrt{C R^{2} - 4 L}\\right) e^{- \\frac{t \\left(\\sqrt{C} R + \\sqrt{C R^{2} - 4 L}\\right)}{2 \\sqrt{C} L}}}{2 \\sqrt{C}} + \\frac{C_{2} \\left(\\sqrt{C} R + \\sqrt{C R^{2} - 4 L}\\right) e^{- \\frac{t \\left(\\sqrt{C} R - \\sqrt{C R^{2} - 4 L}\\right)}{2 \\sqrt{C} L}}}{2 \\sqrt{C}}$"
      ],
      "text/plain": [
       "Eq(v_C(t), C1*(sqrt(C)*R - sqrt(C*R**2 - 4*L))*exp(-t*(sqrt(C)*R + sqrt(C*R**2 - 4*L))/(2*sqrt(C)*L))/(2*sqrt(C)) + C2*(sqrt(C)*R + sqrt(C*R**2 - 4*L))*exp(-t*(sqrt(C)*R - sqrt(C*R**2 - 4*L))/(2*sqrt(C)*L))/(2*sqrt(C)))"
      ]
     },
     "metadata": {},
     "output_type": "display_data"
    },
    {
     "name": "stdout",
     "output_type": "stream",
     "text": [
      " \n"
     ]
    },
    {
     "data": {
      "text/latex": [
       "$\\displaystyle i_{L}{\\left(t \\right)} = C_{1} e^{- \\frac{t \\left(\\sqrt{C} R + \\sqrt{C R^{2} - 4 L}\\right)}{2 \\sqrt{C} L}} + C_{2} e^{- \\frac{t \\left(\\sqrt{C} R - \\sqrt{C R^{2} - 4 L}\\right)}{2 \\sqrt{C} L}}$"
      ],
      "text/plain": [
       "Eq(i_L(t), C1*exp(-t*(sqrt(C)*R + sqrt(C*R**2 - 4*L))/(2*sqrt(C)*L)) + C2*exp(-t*(sqrt(C)*R - sqrt(C*R**2 - 4*L))/(2*sqrt(C)*L)))"
      ]
     },
     "metadata": {},
     "output_type": "display_data"
    },
    {
     "name": "stdout",
     "output_type": "stream",
     "text": [
      " \n"
     ]
    }
   ],
   "source": [
    "# Solve the system of differential equations using dsolve()\n",
    "solutions = dsolve( eqn, ics=None )\n",
    "for eq in solutions:\n",
    "    display( eq )\n",
    "    print(' ')"
   ]
  },
  {
   "cell_type": "code",
   "execution_count": 9,
   "metadata": {},
   "outputs": [
    {
     "data": {
      "text/latex": [
       "$\\displaystyle v_{C}{\\left(t \\right)} = - 10.1397590419143 e^{- 25000.0 t} \\sin{\\left(505752.168962483 t \\right)} - 1.11022302462516 \\cdot 10^{-16} e^{- 25000.0 t} \\cos{\\left(505752.168962483 t \\right)}$"
      ],
      "text/plain": [
       "Eq(v_C(t), -10.1397590419143*exp(-25000.0*t)*sin(505752.168962483*t) - 1.11022302462516e-16*exp(-25000.0*t)*cos(505752.168962483*t))"
      ]
     },
     "metadata": {},
     "output_type": "display_data"
    },
    {
     "name": "stdout",
     "output_type": "stream",
     "text": [
      " \n"
     ]
    },
    {
     "data": {
      "text/latex": [
       "$\\displaystyle i_{L}{\\left(t \\right)} = - 0.00988626506586649 e^{- 25000.0 t} \\sin{\\left(505752.168962483 t \\right)} + 0.2 e^{- 25000.0 t} \\cos{\\left(505752.168962483 t \\right)}$"
      ],
      "text/plain": [
       "Eq(i_L(t), -0.00988626506586649*exp(-25000.0*t)*sin(505752.168962483*t) + 0.2*exp(-25000.0*t)*cos(505752.168962483*t))"
      ]
     },
     "metadata": {},
     "output_type": "display_data"
    },
    {
     "name": "stdout",
     "output_type": "stream",
     "text": [
      " \n"
     ]
    }
   ],
   "source": [
    "# Substitute numeric values for the circuit parameters\n",
    "# For instance, R = 5 Ohm, C = 39 nF, L = 100 uH\n",
    "params = {R:0.3, C: 100e-9,L: 100e-6}\n",
    "eqn = [eq.subs( params ) for eq in eqn]\n",
    "# Set the initial conditions\n",
    "ics = {v_C(0): 0.0, i_L(0): 0.2}\n",
    "# Solve the system of differential equations with initial conditions using dsolve()\n",
    "solutions = dsolve( eqn, ics=ics )\n",
    "for eq in solutions:\n",
    "    display( eq ) # display the equation\n",
    "    print(' ')"
   ]
  },
  {
   "cell_type": "code",
   "execution_count": 30,
   "metadata": {},
   "outputs": [
    {
     "data": {
      "text/latex": [
       "$\\displaystyle - 10.1397590419143 e^{- 25000.0 t} \\sin{\\left(505752.168962483 t \\right)} - 1.11022302462516 \\cdot 10^{-16} e^{- 25000.0 t} \\cos{\\left(505752.168962483 t \\right)} = 0$"
      ],
      "text/plain": [
       "Eq(-10.1397590419143*exp(-25000.0*t)*sin(505752.168962483*t) - 1.11022302462516e-16*exp(-25000.0*t)*cos(505752.168962483*t), 0)"
      ]
     },
     "metadata": {},
     "output_type": "display_data"
    },
    {
     "data": {
      "text/plain": [
       "[-2.16493489801907e-23]"
      ]
     },
     "execution_count": 30,
     "metadata": {},
     "output_type": "execute_result"
    }
   ],
   "source": []
  },
  {
   "cell_type": "code",
   "execution_count": 40,
   "metadata": {},
   "outputs": [
    {
     "data": {
      "image/png": "[encoded data removed]",
      "text/plain": [
       "<Figure size 640x480 with 1 Axes>"
      ]
     },
     "metadata": {},
     "output_type": "display_data"
    }
   ],
   "source": [
    "# Convert the solution to NumPy functions\n",
    "f_np = [ lambdify(t, sol.rhs, \"numpy\") for sol in solutions]\n",
    "v_C_np = f_np[0] # voltage across the capacitor C\n",
    "i_L_np = f_np[1] # current flow through the inductor L\n",
    "# Plot the voltage across the capacitor C: v_C(t)\n",
    "N = 1000 # number of points\n",
    "t_start, t_end = [0,100] # time steps from 0 to 100 usec\n",
    "ts = np.linspace(t_start,t_end,N)\n",
    "plt.plot( ts, v_C_np(ts/1e6) )\n",
    "plt.xticks(np.arange(0,t_end+1,10)) # xtick resolution 10usec\n",
    "plt.ylabel('[V]')\n",
    "plt.xlabel('[usec]')\n",
    "plt.grid( True )\n",
    "plt.title('Plot $v_C(t)$')\n",
    "plt.show()"
   ]
  },
  {
   "cell_type": "code",
   "execution_count": 31,
   "metadata": {},
   "outputs": [
    {
     "data": {
      "text/plain": [
       "-1.11022302462516e-16"
      ]
     },
     "metadata": {},
     "output_type": "display_data"
    }
   ],
   "source": []
  }
 ],
 "metadata": {
  "kernelspec": {
   "display_name": "venv",
   "language": "python",
   "name": "python3"
  },
  "language_info": {
   "codemirror_mode": {
    "name": "ipython",
    "version": 3
   },
   "file_extension": ".py",
   "mimetype": "text/x-python",
   "name": "python",
   "nbconvert_exporter": "python",
   "pygments_lexer": "ipython3",
   "version": "3.10.9"
  },
  "orig_nbformat": 4,
  "vscode": {
   "interpreter": {
    "hash": "3c017dff2c38b8d01f2d85dc9a64fdf69834f32a17f7d6066320b05947e69c20"
   }
  }
 },
 "nbformat": 4,
 "nbformat_minor": 2
}
