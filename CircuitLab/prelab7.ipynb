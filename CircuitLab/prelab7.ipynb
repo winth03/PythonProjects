{
 "cells": [
  {
   "cell_type": "code",
   "execution_count": 3,
   "metadata": {},
   "outputs": [
    {
     "data": {
      "text/latex": [
       "$\\displaystyle v_{C}{\\left(t \\right)} = \\frac{C_{1} \\left(\\sqrt{C} R - \\sqrt{C R^{2} - 4 L}\\right) e^{- \\frac{t \\left(\\sqrt{C} R + \\sqrt{C R^{2} - 4 L}\\right)}{2 \\sqrt{C} L}}}{2 \\sqrt{C}} + \\frac{C_{2} \\left(\\sqrt{C} R + \\sqrt{C R^{2} - 4 L}\\right) e^{- \\frac{t \\left(\\sqrt{C} R - \\sqrt{C R^{2} - 4 L}\\right)}{2 \\sqrt{C} L}}}{2 \\sqrt{C}}$"
      ],
      "text/plain": [
       "Eq(v_C(t), C1*(sqrt(C)*R - sqrt(C*R**2 - 4*L))*exp(-t*(sqrt(C)*R + sqrt(C*R**2 - 4*L))/(2*sqrt(C)*L))/(2*sqrt(C)) + C2*(sqrt(C)*R + sqrt(C*R**2 - 4*L))*exp(-t*(sqrt(C)*R - sqrt(C*R**2 - 4*L))/(2*sqrt(C)*L))/(2*sqrt(C)))"
      ]
     },
     "metadata": {},
     "output_type": "display_data"
    },
    {
     "name": "stdout",
     "output_type": "stream",
     "text": [
      " \n"
     ]
    },
    {
     "data": {
      "text/latex": [
       "$\\displaystyle i_{L}{\\left(t \\right)} = C_{1} e^{- \\frac{t \\left(\\sqrt{C} R + \\sqrt{C R^{2} - 4 L}\\right)}{2 \\sqrt{C} L}} + C_{2} e^{- \\frac{t \\left(\\sqrt{C} R - \\sqrt{C R^{2} - 4 L}\\right)}{2 \\sqrt{C} L}}$"
      ],
      "text/plain": [
       "Eq(i_L(t), C1*exp(-t*(sqrt(C)*R + sqrt(C*R**2 - 4*L))/(2*sqrt(C)*L)) + C2*exp(-t*(sqrt(C)*R - sqrt(C*R**2 - 4*L))/(2*sqrt(C)*L)))"
      ]
     },
     "metadata": {},
     "output_type": "display_data"
    },
    {
     "name": "stdout",
     "output_type": "stream",
     "text": [
      " \n"
     ]
    },
    {
     "data": {
      "text/latex": [
       "$\\displaystyle v_{C}{\\left(t \\right)} = - 4.17515954025045 e^{- 56818.181818182 t} \\sin{\\left(205490.242273013 t \\right)} + 2.50000000000001 e^{- 56818.181818182 t} \\cos{\\left(205490.242273013 t \\right)}$"
      ],
      "text/plain": [
       "Eq(v_C(t), -4.17515954025045*exp(-56818.181818182*t)*sin(205490.242273013*t) + 2.50000000000001*exp(-56818.181818182*t)*cos(205490.242273013*t))"
      ]
     },
     "metadata": {},
     "output_type": "display_data"
    },
    {
     "name": "stdout",
     "output_type": "stream",
     "text": [
      " \n"
     ]
    },
    {
     "data": {
      "text/latex": [
       "$\\displaystyle i_{L}{\\left(t \\right)} = 0.0276500631804666 e^{- 56818.181818182 t} \\sin{\\left(205490.242273013 t \\right)} + 0.1 e^{- 56818.181818182 t} \\cos{\\left(205490.242273013 t \\right)}$"
      ],
      "text/plain": [
       "Eq(i_L(t), 0.0276500631804666*exp(-56818.181818182*t)*sin(205490.242273013*t) + 0.1*exp(-56818.181818182*t)*cos(205490.242273013*t))"
      ]
     },
     "metadata": {},
     "output_type": "display_data"
    },
    {
     "name": "stdout",
     "output_type": "stream",
     "text": [
      " \n"
     ]
    },
    {
     "data": {
      "image/png": "[encoded data removed]",
      "text/plain": [
       "<Figure size 432x288 with 1 Axes>"
      ]
     },
     "metadata": {
      "needs_background": "light"
     },
     "output_type": "display_data"
    }
   ],
   "source": [
    "# Python Demo Code\n",
    "# Date: 2023-01-25\n",
    "from sympy import *\n",
    "from sympy.assumptions import *\n",
    "import numpy as np\n",
    "import matplotlib.pyplot as plt\n",
    "from IPython.display import Math, Latex\n",
    "# Define the variables and functions\n",
    "t = Symbol('t')\n",
    "R, L, C = symbols('R L C',positive=True) # circuit's parameters\n",
    "v_C, i_L = symbols('v_C i_L', cls=Function)\n",
    "# Define the differential equations\n",
    "eq1 = Eq(Derivative(v_C(t), t), -i_L(t)/C)\n",
    "eq2 = Eq(Derivative(i_L(t), t), v_C(t)/L - i_L(t)*R/L)\n",
    "eqn = (eq1, eq2)\n",
    "# Solve the system of differential equations using dsolve()\n",
    "solutions = dsolve( eqn, ics=None )\n",
    "for eq in solutions:\n",
    "    display( eq )\n",
    "    print(' ')\n",
    "# Substitute numeric values for the circuit parameters\n",
    "# For instance, R = 5 Ohm, C = 39 nF, L = 100 uH\n",
    "params = {R:25.0, C: 100e-9,L: 220e-6}\n",
    "eqn = [eq.subs( params ) for eq in eqn]\n",
    "# Set the initial conditions\n",
    "ics = {v_C(0): 2.5, i_L(0): 0.1}\n",
    "# Solve the system of differential equations with initial conditions using dsolve()\n",
    "solutions = dsolve( eqn, ics=ics )\n",
    "for eq in solutions:\n",
    "    display( eq ) # display the equation\n",
    "    print(' ')\n",
    "# Convert the solution to NumPy functions\n",
    "f_np = [ lambdify(t, sol.rhs, \"numpy\") for sol in solutions]\n",
    "v_C_np = f_np[0] # voltage across the capacitor C\n",
    "i_L_np = f_np[1] # current flow through the inductor L\n",
    "# Plot the voltage across the capacitor C: v_C(t)\n",
    "N = 1000 # number of points\n",
    "t_start, t_end = [0,100] # time steps from 0 to 100 usec\n",
    "ts = np.linspace(t_start,t_end,N)\n",
    "plt.plot( ts, v_C_np(ts/1e6) )\n",
    "plt.xticks(np.arange(0,t_end+1,10)) # xtick resolution 10usec\n",
    "plt.ylabel('[V]')\n",
    "plt.xlabel('[usec]')\n",
    "plt.grid( True )\n",
    "plt.title('Plot $v_C(t)$')\n",
    "plt.show()"
   ]
  }
 ],
 "metadata": {
  "kernelspec": {
   "display_name": "Python 3",
   "language": "python",
   "name": "python3"
  },
  "language_info": {
   "codemirror_mode": {
    "name": "ipython",
    "version": 3
   },
   "file_extension": ".py",
   "mimetype": "text/x-python",
   "name": "python",
   "nbconvert_exporter": "python",
   "pygments_lexer": "ipython3",
   "version": "3.10.8"
  },
  "orig_nbformat": 4,
  "vscode": {
   "interpreter": {
    "hash": "1a95259077af89da7c0500fea3901be45c674b8b624d7503acfcf9cef360f78b"
   }
  }
 },
 "nbformat": 4,
 "nbformat_minor": 2
}
