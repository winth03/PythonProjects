{
 "cells": [
  {
   "attachments": {},
   "cell_type": "markdown",
   "metadata": {},
   "source": [
    "เขียนโปรแกรม Python ด้วยสองวิธีคือ Mesh Analysis และ Nodal Analysis ตามลำาดับ เพื่อวิเคราะห์\n",
    "ปริมาณกระแสไฟฟ้าในวงจร หาแรงดันไฟฟ้าที่จุด 1 - 4 ในวงจรเทียบกับ GND ของวงจร และกระแสที่ไหล\n",
    "ผ่านตัวต้านท้านในวงจร (R1 - R5) ในวงจรไฟฟ้าตามรูปที่ 1"
   ]
  },
  {
   "cell_type": "code",
   "execution_count": 191,
   "metadata": {},
   "outputs": [
    {
     "name": "stdout",
     "output_type": "stream",
     "text": [
      "Requirement already satisfied: sympy in d:\\projects\\pythonprojects\\circuitlab\\venv\\lib\\site-packages (1.11.1)\n",
      "Requirement already satisfied: mpmath>=0.19 in d:\\projects\\pythonprojects\\circuitlab\\venv\\lib\\site-packages (from sympy) (1.2.1)\n"
     ]
    }
   ],
   "source": [
    "# install modules\n",
    "! pip install sympy"
   ]
  },
  {
   "cell_type": "code",
   "execution_count": 269,
   "metadata": {},
   "outputs": [],
   "source": [
    "from sympy import symbols, Eq, Rational, solve, latex\n",
    "from IPython.display import display, Math"
   ]
  },
  {
   "attachments": {},
   "cell_type": "markdown",
   "metadata": {},
   "source": [
    "### Mesh Analysis"
   ]
  },
  {
   "cell_type": "code",
   "execution_count": 252,
   "metadata": {},
   "outputs": [],
   "source": [
    "def print_eq(eq, **kwargs):\n",
    "    pre = kwargs.get('pre', '')\n",
    "    post = kwargs.get('post', '')\n",
    "    line = latex(pre) + latex(eq) + latex(post)\n",
    "    display(Math(line))"
   ]
  },
  {
   "cell_type": "code",
   "execution_count": 278,
   "metadata": {},
   "outputs": [
    {
     "data": {
      "text/latex": [
       "$\\displaystyle \\mathtt{\\text{}}I_{1} R_{1} + I_{1} R_{4} - I_{2} R_{4} - V_{S1} = 0\\mathtt{\\text{}}$"
      ],
      "text/plain": [
       "<IPython.core.display.Math object>"
      ]
     },
     "metadata": {},
     "output_type": "display_data"
    },
    {
     "data": {
      "text/latex": [
       "$\\displaystyle \\mathtt{\\text{① }}1500 I_{1} - 1000 I_{2} - 12 = 0\\mathtt{\\text{}}$"
      ],
      "text/plain": [
       "<IPython.core.display.Math object>"
      ]
     },
     "metadata": {},
     "output_type": "display_data"
    },
    {
     "data": {
      "text/latex": [
       "$\\displaystyle \\mathtt{\\text{}}- I_{1} R_{4} + I_{2} R_{2} + I_{2} R_{4} + I_{2} R_{5} - I_{3} R_{5} = 0\\mathtt{\\text{}}$"
      ],
      "text/plain": [
       "<IPython.core.display.Math object>"
      ]
     },
     "metadata": {},
     "output_type": "display_data"
    },
    {
     "data": {
      "text/latex": [
       "$\\displaystyle \\mathtt{\\text{② }}- 1000 I_{1} + 2680 I_{2} - 1000 I_{3} = 0\\mathtt{\\text{}}$"
      ],
      "text/plain": [
       "<IPython.core.display.Math object>"
      ]
     },
     "metadata": {},
     "output_type": "display_data"
    },
    {
     "data": {
      "text/latex": [
       "$\\displaystyle \\mathtt{\\text{}}- 1000 I_{2} + I_{3} R_{3} + I_{3} R_{5} + V_{S2} = 0\\mathtt{\\text{}}$"
      ],
      "text/plain": [
       "<IPython.core.display.Math object>"
      ]
     },
     "metadata": {},
     "output_type": "display_data"
    },
    {
     "data": {
      "text/latex": [
       "$\\displaystyle \\mathtt{\\text{③ }}- 1000 I_{2} + 1500 I_{3} + 9 = 0\\mathtt{\\text{}}$"
      ],
      "text/plain": [
       "<IPython.core.display.Math object>"
      ]
     },
     "metadata": {},
     "output_type": "display_data"
    }
   ],
   "source": [
    "i1, i2, i3, r1, r2, r3, r4, r5, vs1, vs2 = symbols('I1:4 R1:6 V_S1:3')\n",
    "eq1 = Eq(-vs1 + i1 * r1 + i1 * r4 - i2 * r4, 0)\n",
    "eq2 = Eq(i2 * r4 + i2 * r2 + i2 * r5 - i1 * r4 - i3 * r5, 0)\n",
    "eq3 = Eq(i3 * r5 + i3 * r3 + vs2 - i2 * 1000, 0)\n",
    "eqs = [eq1, eq2, eq3]\n",
    "for i in range(len(eqs)):\n",
    "    print_eq(eqs[i])\n",
    "    eqs[i] = eqs[i].subs({vs1: 12, vs2: 9, r1: 500, r2: 680, r3: 500, r4: 1000, r5: 1000})\n",
    "    print_eq(\n",
    "        eqs[i], \n",
    "        pre=chr(int(f'{2460+i}', 16)) + ' '\n",
    "    )"
   ]
  },
  {
   "cell_type": "code",
   "execution_count": 279,
   "metadata": {},
   "outputs": [
    {
     "name": "stdout",
     "output_type": "stream",
     "text": [
      "Solved:\n"
     ]
    },
    {
     "data": {
      "text/latex": [
       "$\\displaystyle \\mathtt{\\text{}}I_{1} = 8.99\\mathtt{\\text{ mA}}$"
      ],
      "text/plain": [
       "<IPython.core.display.Math object>"
      ]
     },
     "metadata": {},
     "output_type": "display_data"
    },
    {
     "data": {
      "text/latex": [
       "$\\displaystyle \\mathtt{\\text{}}I_{2} = 1.485\\mathtt{\\text{ mA}}$"
      ],
      "text/plain": [
       "<IPython.core.display.Math object>"
      ]
     },
     "metadata": {},
     "output_type": "display_data"
    },
    {
     "data": {
      "text/latex": [
       "$\\displaystyle \\mathtt{\\text{}}I_{3} = -5.01\\mathtt{\\text{ mA}}$"
      ],
      "text/plain": [
       "<IPython.core.display.Math object>"
      ]
     },
     "metadata": {},
     "output_type": "display_data"
    }
   ],
   "source": [
    "ans = solve(eqs, (i1, i2, i3))\n",
    "print('Solved:')\n",
    "for var in ans:\n",
    "    print_eq(Eq(var, (ans[var]*1000).evalf(4)), post=' mA')"
   ]
  },
  {
   "cell_type": "code",
   "execution_count": 280,
   "metadata": {},
   "outputs": [
    {
     "data": {
      "text/latex": [
       "$\\displaystyle \\mathtt{\\text{}}V_{R1} = I_{1} R_{1}\\mathtt{\\text{}}$"
      ],
      "text/plain": [
       "<IPython.core.display.Math object>"
      ]
     },
     "metadata": {},
     "output_type": "display_data"
    },
    {
     "data": {
      "text/latex": [
       "$\\displaystyle \\mathtt{\\text{}}V_{R1} = 4.495\\mathtt{\\text{ V}}$"
      ],
      "text/plain": [
       "<IPython.core.display.Math object>"
      ]
     },
     "metadata": {},
     "output_type": "display_data"
    },
    {
     "data": {
      "text/latex": [
       "$\\displaystyle \\mathtt{\\text{}}V_{R2} = I_{2} R_{2}\\mathtt{\\text{}}$"
      ],
      "text/plain": [
       "<IPython.core.display.Math object>"
      ]
     },
     "metadata": {},
     "output_type": "display_data"
    },
    {
     "data": {
      "text/latex": [
       "$\\displaystyle \\mathtt{\\text{}}V_{R2} = 1.01\\mathtt{\\text{ V}}$"
      ],
      "text/plain": [
       "<IPython.core.display.Math object>"
      ]
     },
     "metadata": {},
     "output_type": "display_data"
    },
    {
     "data": {
      "text/latex": [
       "$\\displaystyle \\mathtt{\\text{}}V_{R3} = I_{3} R_{3}\\mathtt{\\text{}}$"
      ],
      "text/plain": [
       "<IPython.core.display.Math object>"
      ]
     },
     "metadata": {},
     "output_type": "display_data"
    },
    {
     "data": {
      "text/latex": [
       "$\\displaystyle \\mathtt{\\text{}}V_{R3} = -2.505\\mathtt{\\text{ V}}$"
      ],
      "text/plain": [
       "<IPython.core.display.Math object>"
      ]
     },
     "metadata": {},
     "output_type": "display_data"
    }
   ],
   "source": [
    "vr1, vr2, vr3 = symbols('V_R1:4')\n",
    "eq1 = Eq(vr1, i1*r1)\n",
    "eq2 = Eq(vr2, i2*r2)\n",
    "eq3 = Eq(vr3, i3*r3)\n",
    "eqs = [eq1, eq2, eq3]\n",
    "for i in range(len(eqs)):\n",
    "    print_eq(eqs[i])\n",
    "    eqs[i] = eqs[i].subs({i1: ans[i1], i2: ans[i2], i3: ans[i3], r1: 500, r2: 680, r3: 500})\n",
    "    print_eq(eqs[i].evalf(4), post=' V')"
   ]
  },
  {
   "attachments": {},
   "cell_type": "markdown",
   "metadata": {},
   "source": [
    "### Nodal Analysis"
   ]
  },
  {
   "cell_type": "code",
   "execution_count": 281,
   "metadata": {},
   "outputs": [
    {
     "data": {
      "text/latex": [
       "$\\displaystyle \\mathtt{\\text{① }}V_{1} = V_{S1} = 12\\mathtt{\\text{}}$"
      ],
      "text/plain": [
       "<IPython.core.display.Math object>"
      ]
     },
     "metadata": {},
     "output_type": "display_data"
    },
    {
     "data": {
      "text/latex": [
       "$\\displaystyle \\mathtt{\\text{② }}\\frac{V_{1} - V_{2}}{R_{1}} = \\frac{V_{2}}{R_{4}} + \\frac{V_{2} - V_{3}}{R_{2}}\\mathtt{\\text{}}$"
      ],
      "text/plain": [
       "<IPython.core.display.Math object>"
      ]
     },
     "metadata": {},
     "output_type": "display_data"
    },
    {
     "data": {
      "text/latex": [
       "$\\displaystyle \\mathtt{\\text{③ }}\\frac{- V_{3} + V_{4}}{R_{3}} + \\frac{V_{2} - V_{3}}{R_{2}} = \\frac{V_{3}}{R_{5}}\\mathtt{\\text{}}$"
      ],
      "text/plain": [
       "<IPython.core.display.Math object>"
      ]
     },
     "metadata": {},
     "output_type": "display_data"
    },
    {
     "data": {
      "text/latex": [
       "$\\displaystyle \\mathtt{\\text{④ }}V_{4} = V_{S2} = 9\\mathtt{\\text{}}$"
      ],
      "text/plain": [
       "<IPython.core.display.Math object>"
      ]
     },
     "metadata": {},
     "output_type": "display_data"
    },
    {
     "data": {
      "text/latex": [
       "$\\displaystyle \\mathtt{\\text{① → ② ; ⑤ }}\\frac{3}{125} - \\frac{V_{2}}{500} = \\frac{21 V_{2}}{8500} - \\frac{V_{3}}{680}\\mathtt{\\text{}}$"
      ],
      "text/plain": [
       "<IPython.core.display.Math object>"
      ]
     },
     "metadata": {},
     "output_type": "display_data"
    },
    {
     "data": {
      "text/latex": [
       "$\\displaystyle \\mathtt{\\text{④ → ③ ; ⑥ }}\\frac{V_{2}}{680} - \\frac{59 V_{3}}{17000} + \\frac{9}{500} = \\frac{V_{3}}{1000}\\mathtt{\\text{}}$"
      ],
      "text/plain": [
       "<IPython.core.display.Math object>"
      ]
     },
     "metadata": {},
     "output_type": "display_data"
    }
   ],
   "source": [
    "v1, v2, v3, v4 = symbols('V1:5')\n",
    "eq1 = Eq(v1, Eq(vs1, 12))\n",
    "eq2 = Eq((v1-v2)/r1, (v2-v3)/r2 + v2/r4)\n",
    "eq3 = Eq((v2-v3)/r2 + (v4-v3)/r3, v3/r5)\n",
    "eq4 = Eq(v4, Eq(vs2, 9))\n",
    "eqs = [eq1, eq2, eq3, eq4]\n",
    "for i in range(len(eqs)):\n",
    "    print_eq(eqs[i], pre=chr(int(f'{2460+i}', 16)) + ' ')\n",
    "eq5 = eq2.subs({v1: 12, r1: 500, r2: 680, r4: 1000})\n",
    "print_eq(eq5, pre='① → ② ; ⑤ ')\n",
    "eq6 = eq3.subs({v4: 9, r2: 680, r3: 500, r5: 1000})\n",
    "print_eq(eq6, pre='④ → ③ ; ⑥ ')"
   ]
  },
  {
   "cell_type": "code",
   "execution_count": 282,
   "metadata": {},
   "outputs": [
    {
     "data": {
      "text/latex": [
       "$\\displaystyle \\mathtt{\\text{}}V_{1} = 12\\mathtt{\\text{ V}}$"
      ],
      "text/plain": [
       "<IPython.core.display.Math object>"
      ]
     },
     "metadata": {},
     "output_type": "display_data"
    },
    {
     "data": {
      "text/latex": [
       "$\\displaystyle \\mathtt{\\text{}}V_{2} = 7.505\\mathtt{\\text{ V}}$"
      ],
      "text/plain": [
       "<IPython.core.display.Math object>"
      ]
     },
     "metadata": {},
     "output_type": "display_data"
    },
    {
     "data": {
      "text/latex": [
       "$\\displaystyle \\mathtt{\\text{}}V_{3} = 6.495\\mathtt{\\text{ V}}$"
      ],
      "text/plain": [
       "<IPython.core.display.Math object>"
      ]
     },
     "metadata": {},
     "output_type": "display_data"
    },
    {
     "data": {
      "text/latex": [
       "$\\displaystyle \\mathtt{\\text{}}V_{4} = 9\\mathtt{\\text{ V}}$"
      ],
      "text/plain": [
       "<IPython.core.display.Math object>"
      ]
     },
     "metadata": {},
     "output_type": "display_data"
    }
   ],
   "source": [
    "ans = solve([eq5, eq6], (v2, v3))\n",
    "print_eq(Eq(v1, 12), post=' V')\n",
    "for var in ans:\n",
    "    print_eq(Eq(var, ans[var].evalf(4)), post=' V')\n",
    "print_eq(Eq(v4, 9), post=' V')"
   ]
  },
  {
   "cell_type": "code",
   "execution_count": 286,
   "metadata": {},
   "outputs": [
    {
     "data": {
      "text/latex": [
       "$\\displaystyle \\mathtt{\\text{}}V_{R1} = V_{1} - V_{2}\\mathtt{\\text{}}$"
      ],
      "text/plain": [
       "<IPython.core.display.Math object>"
      ]
     },
     "metadata": {},
     "output_type": "display_data"
    },
    {
     "data": {
      "text/latex": [
       "$\\displaystyle \\mathtt{\\text{}}V_{R1} = 4.495\\mathtt{\\text{ V}}$"
      ],
      "text/plain": [
       "<IPython.core.display.Math object>"
      ]
     },
     "metadata": {},
     "output_type": "display_data"
    },
    {
     "data": {
      "text/latex": [
       "$\\displaystyle \\mathtt{\\text{}}V_{R2} = V_{2} - V_{3}\\mathtt{\\text{}}$"
      ],
      "text/plain": [
       "<IPython.core.display.Math object>"
      ]
     },
     "metadata": {},
     "output_type": "display_data"
    },
    {
     "data": {
      "text/latex": [
       "$\\displaystyle \\mathtt{\\text{}}V_{R2} = 1.01\\mathtt{\\text{ V}}$"
      ],
      "text/plain": [
       "<IPython.core.display.Math object>"
      ]
     },
     "metadata": {},
     "output_type": "display_data"
    },
    {
     "data": {
      "text/latex": [
       "$\\displaystyle \\mathtt{\\text{}}V_{R3} = V_{3} - V_{4}\\mathtt{\\text{}}$"
      ],
      "text/plain": [
       "<IPython.core.display.Math object>"
      ]
     },
     "metadata": {},
     "output_type": "display_data"
    },
    {
     "data": {
      "text/latex": [
       "$\\displaystyle \\mathtt{\\text{}}V_{R3} = -2.505\\mathtt{\\text{ V}}$"
      ],
      "text/plain": [
       "<IPython.core.display.Math object>"
      ]
     },
     "metadata": {},
     "output_type": "display_data"
    }
   ],
   "source": [
    "eq1 = Eq(vr1, v1-v2)\n",
    "eq2 = Eq(vr2, v2-v3)\n",
    "eq3 = Eq(vr3, v3-v4)\n",
    "eqs = [eq1, eq2, eq3]\n",
    "for i in range(len(eqs)):\n",
    "    print_eq(eqs[i])\n",
    "    eqs[i] = eqs[i].subs({v1: 12, v2: ans[v2], v3: ans[v3], v4: 9})\n",
    "    print_eq(eqs[i].evalf(4), post=' V')"
   ]
  }
 ],
 "metadata": {
  "kernelspec": {
   "display_name": "venv",
   "language": "python",
   "name": "python3"
  },
  "language_info": {
   "codemirror_mode": {
    "name": "ipython",
    "version": 3
   },
   "file_extension": ".py",
   "mimetype": "text/x-python",
   "name": "python",
   "nbconvert_exporter": "python",
   "pygments_lexer": "ipython3",
   "version": "3.10.5"
  },
  "orig_nbformat": 4,
  "vscode": {
   "interpreter": {
    "hash": "3c017dff2c38b8d01f2d85dc9a64fdf69834f32a17f7d6066320b05947e69c20"
   }
  }
 },
 "nbformat": 4,
 "nbformat_minor": 2
}
