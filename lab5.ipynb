{
 "cells": [
  {
   "cell_type": "code",
   "execution_count": 15,
   "metadata": {},
   "outputs": [
    {
     "data": {
      "text/plain": [
       "(9, 0, 4.2)"
      ]
     },
     "execution_count": 15,
     "metadata": {},
     "output_type": "execute_result"
    }
   ],
   "source": [
    "def max_min_ave(arr):\n",
    "    max, min, sum = 0, 0, 0\n",
    "    for v in arr:\n",
    "        sum += v\n",
    "        if v > max:\n",
    "            max = v\n",
    "        if v < min:\n",
    "            min = v\n",
    "    av = sum / len(arr)\n",
    "    return max, min, av\n",
    "\n",
    "max_min_ave([6, 9, 4, 2, 0])"
   ]
  },
  {
   "cell_type": "code",
   "execution_count": 16,
   "metadata": {},
   "outputs": [
    {
     "data": {
      "text/plain": [
       "(1, 3)"
      ]
     },
     "execution_count": 16,
     "metadata": {},
     "output_type": "execute_result"
    }
   ],
   "source": [
    "def max_min_ind(arr):\n",
    "    max, min = 0, 0\n",
    "    for i in range(len(arr)):\n",
    "        if arr[i] > arr[max]:\n",
    "            max = i\n",
    "        if arr[i] < arr[min]:\n",
    "            min = i\n",
    "    return max, min\n",
    "\n",
    "max_min_ind([1, 7, 7, 0, 1, 3])"
   ]
  },
  {
   "cell_type": "code",
   "execution_count": 17,
   "metadata": {},
   "outputs": [
    {
     "data": {
      "text/plain": [
       "1"
      ]
     },
     "execution_count": 17,
     "metadata": {},
     "output_type": "execute_result"
    }
   ],
   "source": [
    "def get_index(arr, val):\n",
    "    for i in range(len(arr)):\n",
    "        if arr[i] == val:\n",
    "            return i\n",
    "\n",
    "get_index([\"Hello\", \"World\"], \"World\")"
   ]
  },
  {
   "cell_type": "code",
   "execution_count": 26,
   "metadata": {},
   "outputs": [
    {
     "data": {
      "text/plain": [
       "'1000111'"
      ]
     },
     "execution_count": 26,
     "metadata": {},
     "output_type": "execute_result"
    }
   ],
   "source": [
    "def to_binary(num):\n",
    "    bi_str = \"\"\n",
    "    while num >= 1:\n",
    "        bi_str = str(num % 2) + bi_str\n",
    "        num = num // 2\n",
    "\n",
    "    return bi_str\n",
    "\n",
    "to_binary(71)"
   ]
  },
  {
   "cell_type": "code",
   "execution_count": 19,
   "metadata": {},
   "outputs": [
    {
     "data": {
      "text/plain": [
       "True"
      ]
     },
     "execution_count": 19,
     "metadata": {},
     "output_type": "execute_result"
    }
   ],
   "source": [
    "def palindrome(string):\n",
    "    isPal = True\n",
    "    for i in range(len(string)):\n",
    "        if string[i] != string[-(i+1)]:\n",
    "            isPal = False\n",
    "    \n",
    "    return isPal\n",
    "\n",
    "palindrome(\"UwU\")"
   ]
  },
  {
   "cell_type": "code",
   "execution_count": 20,
   "metadata": {},
   "outputs": [
    {
     "data": {
      "text/plain": [
       "2"
      ]
     },
     "execution_count": 20,
     "metadata": {},
     "output_type": "execute_result"
    }
   ],
   "source": [
    "def countChar(char, string):\n",
    "    count = 0\n",
    "    for c in string:\n",
    "        if c == char:\n",
    "            count += 1\n",
    "\n",
    "    return count\n",
    "\n",
    "countChar(\"a\", \"Thailand\")"
   ]
  },
  {
   "cell_type": "code",
   "execution_count": 27,
   "metadata": {},
   "outputs": [
    {
     "data": {
      "text/plain": [
       "2"
      ]
     },
     "execution_count": 27,
     "metadata": {},
     "output_type": "execute_result"
    }
   ],
   "source": [
    "def countVowels(string):\n",
    "    count = 0\n",
    "    vowels = [\"a\", \"e\", \"i\", \"o\", \"u\"]\n",
    "    for vowel in vowels:\n",
    "        count += countChar(vowel, string)\n",
    "    \n",
    "    return count\n",
    "\n",
    "countVowels(\"Bangkok\")"
   ]
  },
  {
   "cell_type": "code",
   "execution_count": 25,
   "metadata": {},
   "outputs": [
    {
     "name": "stdout",
     "output_type": "stream",
     "text": [
      "positive (2, 7) : 2\n",
      "positive (-5) : 1\n",
      "zero: 1\n"
     ]
    }
   ],
   "source": [
    "total = int(input(\"Enter the total number: \"))\n",
    "pos, neg, zero = [], [], 0\n",
    "for i in range(total):\n",
    "    num = int(input(\"Enter number \" + str(i) + \": \"))\n",
    "    if num > 0:\n",
    "        pos.append(num)\n",
    "    if num < 0:\n",
    "        neg.append(num)\n",
    "    if num == 0:\n",
    "        zero += 1\n",
    "\n",
    "print(\"positive (\" + str(pos)[1:-1] + \") :\", len(pos))\n",
    "print(\"positive (\" + str(neg)[1:-1] + \") :\", len(neg))\n",
    "print(\"zero:\", zero)"
   ]
  }
 ],
 "metadata": {
  "kernelspec": {
   "display_name": "Python 3.10.6 64-bit (windows store)",
   "language": "python",
   "name": "python3"
  },
  "language_info": {
   "codemirror_mode": {
    "name": "ipython",
    "version": 3
   },
   "file_extension": ".py",
   "mimetype": "text/x-python",
   "name": "python",
   "nbconvert_exporter": "python",
   "pygments_lexer": "ipython3",
   "version": "3.10.6"
  },
  "orig_nbformat": 4,
  "vscode": {
   "interpreter": {
    "hash": "1a95259077af89da7c0500fea3901be45c674b8b624d7503acfcf9cef360f78b"
   }
  }
 },
 "nbformat": 4,
 "nbformat_minor": 2
}
