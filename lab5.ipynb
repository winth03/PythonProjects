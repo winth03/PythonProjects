{
 "cells": [
  {
   "cell_type": "code",
   "execution_count": 6,
   "metadata": {},
   "outputs": [
    {
     "data": {
      "text/plain": [
       "(9, 0, 4.2)"
      ]
     },
     "execution_count": 6,
     "metadata": {},
     "output_type": "execute_result"
    }
   ],
   "source": [
    "def max_min_ave(arr):\n",
    "    max, min, sum = 0, 0, 0\n",
    "    i = 0\n",
    "    while i < len(arr):\n",
    "        v = arr[i]\n",
    "        sum += v\n",
    "        if v > max:\n",
    "            max = v\n",
    "        if v < min:\n",
    "            min = v\n",
    "        i += 1\n",
    "    av = sum / len(arr)\n",
    "    return max, min, av\n",
    "\n",
    "max_min_ave([6, 9, 4, 2, 0])"
   ]
  },
  {
   "cell_type": "code",
   "execution_count": 6,
   "metadata": {},
   "outputs": [
    {
     "data": {
      "text/plain": [
       "(1, 3)"
      ]
     },
     "execution_count": 6,
     "metadata": {},
     "output_type": "execute_result"
    }
   ],
   "source": [
    "def max_min_ind(arr):\n",
    "    max, min = 0, 0\n",
    "    i = 0\n",
    "    while i < len(arr):\n",
    "        if arr[i] > arr[max]:\n",
    "            max = i\n",
    "        if arr[i] < arr[min]:\n",
    "            min = i\n",
    "        i += 1\n",
    "    return max, min\n",
    "\n",
    "max_min_ind([1, 7, 7, 0, 1, 3])"
   ]
  },
  {
   "cell_type": "code",
   "execution_count": 2,
   "metadata": {},
   "outputs": [
    {
     "data": {
      "text/plain": [
       "1"
      ]
     },
     "execution_count": 2,
     "metadata": {},
     "output_type": "execute_result"
    }
   ],
   "source": [
    "def get_index(arr, val):\n",
    "    i = 0\n",
    "    while i < len(arr):\n",
    "        if arr[i] == val:\n",
    "            return i\n",
    "        i += 1\n",
    "\n",
    "get_index([\"Hello\", \"World\"], \"World\")"
   ]
  },
  {
   "cell_type": "code",
   "execution_count": 26,
   "metadata": {},
   "outputs": [
    {
     "data": {
      "text/plain": [
       "'1000111'"
      ]
     },
     "execution_count": 26,
     "metadata": {},
     "output_type": "execute_result"
    }
   ],
   "source": [
    "def to_binary(num):\n",
    "    bi_str = \"\"\n",
    "    while num >= 1:\n",
    "        bi_str = str(num % 2) + bi_str\n",
    "        num = num // 2\n",
    "\n",
    "    return bi_str\n",
    "\n",
    "to_binary(71)"
   ]
  },
  {
   "cell_type": "code",
   "execution_count": 4,
   "metadata": {},
   "outputs": [
    {
     "data": {
      "text/plain": [
       "True"
      ]
     },
     "execution_count": 4,
     "metadata": {},
     "output_type": "execute_result"
    }
   ],
   "source": [
    "def palindrome(string):\n",
    "    reversed = \"\"\n",
    "    i = len(string) - 1\n",
    "    while i >= 0:\n",
    "        reversed += string[i]\n",
    "        i -= 1\n",
    "    \n",
    "    return string == reversed\n",
    "\n",
    "palindrome(\"UwU\")"
   ]
  },
  {
   "cell_type": "code",
   "execution_count": 5,
   "metadata": {},
   "outputs": [
    {
     "data": {
      "text/plain": [
       "2"
      ]
     },
     "execution_count": 5,
     "metadata": {},
     "output_type": "execute_result"
    }
   ],
   "source": [
    "def countChar(char, string):\n",
    "    count = 0\n",
    "    i = 0\n",
    "    while i < len(string):\n",
    "        if string[i] == char:\n",
    "            count += 1\n",
    "        i += 1\n",
    "\n",
    "    return count\n",
    "\n",
    "countChar(\"a\", \"Thailand\")"
   ]
  },
  {
   "cell_type": "code",
   "execution_count": 7,
   "metadata": {},
   "outputs": [
    {
     "data": {
      "text/plain": [
       "2"
      ]
     },
     "execution_count": 7,
     "metadata": {},
     "output_type": "execute_result"
    }
   ],
   "source": [
    "def countVowels(string):\n",
    "    count = 0\n",
    "    vowels = [\"a\", \"e\", \"i\", \"o\", \"u\"]\n",
    "    i = 0\n",
    "    while i < len(vowels):\n",
    "        count += countChar(vowels[i], string)\n",
    "        i += 1\n",
    "    \n",
    "    return count\n",
    "\n",
    "countVowels(\"Bangkok\")"
   ]
  },
  {
   "cell_type": "code",
   "execution_count": 8,
   "metadata": {},
   "outputs": [
    {
     "name": "stdout",
     "output_type": "stream",
     "text": [
      "positive (2, 7) : 2\n",
      "positive (-5) : 1\n",
      "zero: 1\n"
     ]
    }
   ],
   "source": [
    "total = int(input(\"Enter the total number: \"))\n",
    "pos, neg, zero = [], [], 0\n",
    "i = 0\n",
    "while i < total:\n",
    "    num = int(input(\"Enter number \" + str(i+1) + \": \"))\n",
    "    if num > 0:\n",
    "        pos.append(num)\n",
    "    if num < 0:\n",
    "        neg.append(num)\n",
    "    if num == 0:\n",
    "        zero += 1\n",
    "    i += 1\n",
    "\n",
    "print(\"positive (\" + str(pos)[1:-1] + \") :\", len(pos))\n",
    "print(\"positive (\" + str(neg)[1:-1] + \") :\", len(neg))\n",
    "print(\"zero:\", zero)"
   ]
  },
  {
   "cell_type": "markdown",
   "metadata": {},
   "source": [
    "## Extra\n",
    "Write a program to multiply 2 list at the same index"
   ]
  },
  {
   "cell_type": "code",
   "execution_count": 18,
   "metadata": {},
   "outputs": [
    {
     "name": "stdout",
     "output_type": "stream",
     "text": [
      "[3, 8]\n"
     ]
    }
   ],
   "source": [
    "def mult(arr, arr1):\n",
    "    result = []\n",
    "    i = 0\n",
    "    while i < len(arr):\n",
    "        result.append(arr[i] * arr1[i])\n",
    "        i += 1\n",
    "\n",
    "    return result\n",
    "\n",
    "print(mult([1, 2], [3, 4]))"
   ]
  }
 ],
 "metadata": {
  "kernelspec": {
   "display_name": "Python 3.10.6 64-bit (windows store)",
   "language": "python",
   "name": "python3"
  },
  "language_info": {
   "codemirror_mode": {
    "name": "ipython",
    "version": 3
   },
   "file_extension": ".py",
   "mimetype": "text/x-python",
   "name": "python",
   "nbconvert_exporter": "python",
   "pygments_lexer": "ipython3",
   "version": "3.10.6"
  },
  "orig_nbformat": 4,
  "vscode": {
   "interpreter": {
    "hash": "1a95259077af89da7c0500fea3901be45c674b8b624d7503acfcf9cef360f78b"
   }
  }
 },
 "nbformat": 4,
 "nbformat_minor": 2
}
