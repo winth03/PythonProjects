{
 "cells": [
  {
   "cell_type": "markdown",
   "metadata": {},
   "source": [
    "Calculate Body Mass Index (BMI) from weight and height\n",
    "then show Weight Status: Underweight, Healthy Weight, Overweight, or Obesity\n",
    "according to the follow link\n",
    "https://www.si.mahidol.ac.th/th/healthdetail.asp?aid=1361#:~:text=%E0%B8%84%E0%B9%88%E0%B8%B2%20BMI%20%3C%2018.5%20%E0%B9%81%E0%B8%AA%E0%B8%94%E0%B8%87%E0%B8%96%E0%B8%B6%E0%B8%87,%E0%B9%82%E0%B8%A3%E0%B8%84%E0%B8%AD%E0%B9%89%E0%B8%A7%E0%B8%99%E0%B8%A3%E0%B8%B0%E0%B8%94%E0%B8%B1%E0%B8%9A%E0%B8%97%E0%B8%B5%E0%B9%88%201"
   ]
  },
  {
   "cell_type": "code",
   "execution_count": null,
   "metadata": {},
   "outputs": [],
   "source": []
  },
  {
   "cell_type": "markdown",
   "metadata": {},
   "source": [
    "Calculate grade from score (A for score 80-100, B for 70-79, C for 60-69 an) d D for\n",
    "50-59, F for 0-49)"
   ]
  },
  {
   "cell_type": "code",
   "execution_count": null,
   "metadata": {},
   "outputs": [],
   "source": []
  },
  {
   "cell_type": "markdown",
   "metadata": {},
   "source": [
    "คํานวณพื้นที่ของที่ดินร้ปสี่เหลี่ยม จากความกว้างและความยาว (หน่วยเป็นเมตร)\n",
    "แสดงพื้นที่ในหน่วยตารางเมตร และระบุว่ามีพื้นที่เพียงพอสําหรับแข่งขันกีฬาอะไรได้บ้าง เช่น\n",
    "Football, Basketball, Volleyball (หรือกีฬาอื่นๆที่นศ.สนใจ)"
   ]
  },
  {
   "cell_type": "code",
   "execution_count": null,
   "metadata": {},
   "outputs": [],
   "source": []
  },
  {
   "cell_type": "markdown",
   "metadata": {},
   "source": [
    "รับค่าจํานวนลูก Football, Basketball, Volleyball แล้วแสดงว่ามีจํานวนลูกอะไรมากที่สุด\n",
    "ให้ใช้ตัวแปร integer 3 ตัวเก็บค่า\n",
    "และทําการเปรียบเทียบพื้นฐานเท่านั้น (เพื่อฝึกการใช้คําสั่งเงื่อนไข)"
   ]
  },
  {
   "cell_type": "code",
   "execution_count": 30,
   "metadata": {},
   "outputs": [
    {
     "name": "stdout",
     "output_type": "stream",
     "text": [
      "Football : 6\n",
      "Basketball : 6\n",
      "Volleyball : 6\n",
      "Football and Basketball and Volleyball has most balls\n"
     ]
    }
   ],
   "source": [
    "foot = int(input('Football : '))\n",
    "bas = int(input('Basketball : '))\n",
    "vol = int(input('Volleyball : '))\n",
    "\n",
    "print(\"Football :\", foot)\n",
    "print(\"Basketball :\", bas)\n",
    "print(\"Volleyball :\", vol)\n",
    "\n",
    "def compare(x, y, z):\n",
    "    if x > y and x > z:\n",
    "        return \"Football\"\n",
    "    if y > x and y > z:\n",
    "        return \"Basketball\"\n",
    "    if z > x and z > y:\n",
    "        return \"Volleyball\"\n",
    "    if x == y > z:\n",
    "        return \"Football and Basketball\"\n",
    "    if x == z > y:\n",
    "        return \"Football and Volleyball\"\n",
    "    if y == z > x:\n",
    "        return \"Basketball and Volleyball\"\n",
    "    if x == y == z:\n",
    "        return \"Football and Basketball and Volleyball\"\n",
    "\n",
    "print(compare(foot, bas, vol), \"has most balls\")\n",
    "    "
   ]
  }
 ],
 "metadata": {
  "kernelspec": {
   "display_name": "Python 3.10.5 64-bit (windows store)",
   "language": "python",
   "name": "python3"
  },
  "language_info": {
   "codemirror_mode": {
    "name": "ipython",
    "version": 3
   },
   "file_extension": ".py",
   "mimetype": "text/x-python",
   "name": "python",
   "nbconvert_exporter": "python",
   "pygments_lexer": "ipython3",
   "version": "3.10.5"
  },
  "orig_nbformat": 4,
  "vscode": {
   "interpreter": {
    "hash": "2192d5d63de93974b6909ff77b922a80909db77769fde9f47799ca66e63e3d8d"
   }
  }
 },
 "nbformat": 4,
 "nbformat_minor": 2
}
