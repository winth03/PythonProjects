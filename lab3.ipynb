{
 "cells": [
  {
   "cell_type": "markdown",
   "metadata": {},
   "source": [
    "Calculate Body Mass Index (BMI) from weight and height\n",
    "then show Weight Status: Underweight, Healthy Weight, Overweight, or Obesity\n",
    "according to the follow link<br>\n",
    "https://www.si.mahidol.ac.th/th/healthdetail.asp?aid=1361#:~:text=%E0%B8%84%E0%B9%88%E0%B8%B2%20BMI%20%3C%2018.5%20%E0%B9%81%E0%B8%AA%E0%B8%94%E0%B8%87%E0%B8%96%E0%B8%B6%E0%B8%87,%E0%B9%82%E0%B8%A3%E0%B8%84%E0%B8%AD%E0%B9%89%E0%B8%A7%E0%B8%99%E0%B8%A3%E0%B8%B0%E0%B8%94%E0%B8%B1%E0%B8%9A%E0%B8%97%E0%B8%B5%E0%B9%88%201"
   ]
  },
  {
   "cell_type": "markdown",
   "metadata": {},
   "source": [
    "|       **BMI**       |        **เกณฑ์**        |\n",
    "|:-------------------:|:----------------------:|\n",
    "| ค่า BMI < 18.5       | อยู่ในเกณฑ์น้ำหนักน้อยหรือผอม |\n",
    "| ค่า BMI 18.5 – 22.90 |       อยู่ในเกณฑ์ปกติ      |\n",
    "| ค่า BMI 23 – 24.90   |        น้ำหนักเกิน        |\n",
    "| ค่า BMI 25 – 29.90   |      โรคอ้วนระดับที่ 1     |\n",
    "| ค่า BMI 30 ขึ้นไป      |      โรคอ้วนระดับที่ 2     |"
   ]
  },
  {
   "cell_type": "code",
   "execution_count": 3,
   "metadata": {},
   "outputs": [
    {
     "name": "stdout",
     "output_type": "stream",
     "text": [
      "Weight : 78 kg | Height : 169 cm\n",
      "BMI : 27.309968138370508 | Weight Status : First Level Obesity\n"
     ]
    }
   ],
   "source": [
    "weight = int(input(\"Input weight(kg) : \"))\n",
    "height = int(input(\"Input height(cm) : \"))\n",
    "print(\"Weight :\", weight, \"kg | Height :\", height, \"cm\")\n",
    "height /= 100\n",
    "bmi = weight / (height ** 2)\n",
    "\n",
    "def status(bmi):\n",
    "    if bmi < 18.5:\n",
    "        return \"Underweight\"\n",
    "    if bmi < 23:\n",
    "        return \"Healthy Weight\"\n",
    "    if bmi < 25:\n",
    "        return \"Overweight\"\n",
    "    if bmi < 30:\n",
    "        return \"First Level Obesity\"\n",
    "    return \"Second Level Obesity\"\n",
    "\n",
    "print(\"BMI :\", bmi, \"| Weight Status :\", status(bmi))"
   ]
  },
  {
   "cell_type": "markdown",
   "metadata": {},
   "source": [
    "Calculate grade from score (A for score 80-100, B for 70-79, C for 60-69 an) d D for\n",
    "50-59, F for 0-49)"
   ]
  },
  {
   "cell_type": "code",
   "execution_count": 8,
   "metadata": {},
   "outputs": [
    {
     "name": "stdout",
     "output_type": "stream",
     "text": [
      "Score : 69 | Grade : C\n"
     ]
    }
   ],
   "source": [
    "score = int(input(\"Input score : \"))\n",
    "\n",
    "def grade(score):\n",
    "    if 0 < score < 50:\n",
    "        return \"F\"\n",
    "    if 50 <= score < 60:\n",
    "        return \"D\"\n",
    "    if 60 <= score < 70:\n",
    "        return \"C\"\n",
    "    if 70 <= score < 80:\n",
    "        return \"B\"\n",
    "    if 80 <= score < 100:\n",
    "        return \"A\"\n",
    "    return \"Invalid score\"\n",
    "\n",
    "print(\"Score :\", score, \"| Grade :\", grade(score))"
   ]
  },
  {
   "cell_type": "markdown",
   "metadata": {},
   "source": [
    "คํานวณพื้นที่ของที่ดินรูปสี่เหลี่ยม จากความกว้างและความยาว (หน่วยเป็นเมตร)\n",
    "แสดงพื้นที่ในหน่วยตารางเมตร และระบุว่ามีพื้นที่เพียงพอสําหรับแข่งขันกีฬาอะไรได้บ้าง เช่น\n",
    "Football, Basketball, Volleyball (หรือกีฬาอื่นๆที่นศ.สนใจ)"
   ]
  },
  {
   "cell_type": "code",
   "execution_count": 11,
   "metadata": {},
   "outputs": [
    {
     "name": "stdout",
     "output_type": "stream",
     "text": [
      "Area : 28980 square meter(s) | Fit for Football Basketball Volleyball\n"
     ]
    }
   ],
   "source": [
    "width = int(input(\"Input width(m) : \"))\n",
    "length = int(input(\"Input lenth(m) : \"))\n",
    "area = width * length\n",
    "\n",
    "def evaluate(area):\n",
    "    sports = \"\"\n",
    "    if area > 4050:\n",
    "        sports += \" Football\"\n",
    "    if area > 436.64:\n",
    "        sports += \" Basketball\"\n",
    "    if area > 360:\n",
    "        sports += \" Volleyball\"\n",
    "    if sports == \"\":\n",
    "        sports = \" no sports\"\n",
    "    return sports\n",
    "\n",
    "print(\"Area :\", area, \"square meter(s) | Fit for\" + evaluate(area))"
   ]
  },
  {
   "cell_type": "markdown",
   "metadata": {},
   "source": [
    "รับค่าจํานวนลูก Football, Basketball, Volleyball แล้วแสดงว่ามีจํานวนลูกอะไรมากที่สุด\n",
    "ให้ใช้ตัวแปร integer 3 ตัวเก็บค่า\n",
    "และทําการเปรียบเทียบพื้นฐานเท่านั้น (เพื่อฝึกการใช้คําสั่งเงื่อนไข)"
   ]
  },
  {
   "cell_type": "code",
   "execution_count": 1,
   "metadata": {},
   "outputs": [
    {
     "name": "stdout",
     "output_type": "stream",
     "text": [
      "Football : 5\n",
      "Basketball : 5\n",
      "Volleyball : 5\n",
      "Football and Basketball and Volleyball has most balls\n"
     ]
    }
   ],
   "source": [
    "foot = int(input('Football : '))\n",
    "bas = int(input('Basketball : '))\n",
    "vol = int(input('Volleyball : '))\n",
    "\n",
    "print(\"Football :\", foot)\n",
    "print(\"Basketball :\", bas)\n",
    "print(\"Volleyball :\", vol)\n",
    "\n",
    "def compare(x, y, z):\n",
    "    if x > y and x > z:\n",
    "        return \"Football\"\n",
    "    if y > x and y > z:\n",
    "        return \"Basketball\"\n",
    "    if z > x and z > y:\n",
    "        return \"Volleyball\"\n",
    "    if x == y > z:\n",
    "        return \"Football and Basketball\"\n",
    "    if x == z > y:\n",
    "        return \"Football and Volleyball\"\n",
    "    if y == z > x:\n",
    "        return \"Basketball and Volleyball\"\n",
    "    return \"Football and Basketball and Volleyball\"\n",
    "\n",
    "print(compare(foot, bas, vol), \"has most balls\")\n",
    "    "
   ]
  },
  {
   "cell_type": "markdown",
   "metadata": {},
   "source": [
    "## Extra"
   ]
  },
  {
   "cell_type": "markdown",
   "metadata": {},
   "source": [
    "Accept the marks of English, Math and Science, Social Studies Subject and display the stream allotted according to following<br>\n",
    "All Subjects more than 80 marks — Science Stream<br>\n",
    "English >80 and Math, Science above 50 – Commerce Stream<br>\n",
    "English > 80 and Social studies > 80 — Humanities<br>"
   ]
  },
  {
   "cell_type": "code",
   "execution_count": 13,
   "metadata": {},
   "outputs": [
    {
     "name": "stdout",
     "output_type": "stream",
     "text": [
      "English : 85\n",
      "Mathematics : 65\n",
      "Science : 45\n",
      "Social Studies : 100\n",
      "Humanities\n"
     ]
    }
   ],
   "source": [
    "eng = int(input(\"Input English score : \"))\n",
    "math = int(input(\"Input Mathematics score : \"))\n",
    "sci = int(input(\"Input Science score : \"))\n",
    "soc = int(input(\"Input Social Studies score : \"))\n",
    "\n",
    "def check(eng, math, sci, soc):\n",
    "    if eng > 80 and math > 80 and sci > 80 and soc > 80:\n",
    "        return \"Science Stream\"\n",
    "    if eng > 80 and math > 50 and sci > 50:\n",
    "        return \"Commerce Stream\"\n",
    "    if eng > 80 and soc > 80:\n",
    "        return \"Humanities\"\n",
    "    return \"Not fit for any criteria\"\n",
    "\n",
    "print(\"English :\", eng)\n",
    "print(\"Mathematics :\", math)\n",
    "print(\"Science :\", sci)\n",
    "print(\"Social Studies :\", soc)\n",
    "print(check(eng, math, sci, soc))"
   ]
  }
 ],
 "metadata": {
  "kernelspec": {
   "display_name": "Python 3.10.5 64-bit (windows store)",
   "language": "python",
   "name": "python3"
  },
  "language_info": {
   "codemirror_mode": {
    "name": "ipython",
    "version": 3
   },
   "file_extension": ".py",
   "mimetype": "text/x-python",
   "name": "python",
   "nbconvert_exporter": "python",
   "pygments_lexer": "ipython3",
   "version": "3.10.5"
  },
  "orig_nbformat": 4,
  "vscode": {
   "interpreter": {
    "hash": "2192d5d63de93974b6909ff77b922a80909db77769fde9f47799ca66e63e3d8d"
   }
  }
 },
 "nbformat": 4,
 "nbformat_minor": 2
}
