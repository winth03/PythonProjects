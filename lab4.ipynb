{
 "cells": [
  {
   "cell_type": "markdown",
   "metadata": {},
   "source": [
    "Calculate and display multiplication table from user input"
   ]
  },
  {
   "cell_type": "code",
   "execution_count": 2,
   "metadata": {},
   "outputs": [
    {
     "name": "stdout",
     "output_type": "stream",
     "text": [
      "12 x 1 = 12\n",
      "12 x 2 = 24\n",
      "12 x 3 = 36\n",
      "12 x 4 = 48\n",
      "12 x 5 = 60\n",
      "12 x 6 = 72\n",
      "12 x 7 = 84\n",
      "12 x 8 = 96\n",
      "12 x 9 = 108\n",
      "12 x 10 = 120\n",
      "12 x 11 = 132\n",
      "12 x 12 = 144\n"
     ]
    }
   ],
   "source": [
    "num = int(input(\"Input number : \"))\n",
    "\n",
    "i = 1\n",
    "while i <= 12:\n",
    "    print(num, \"x\", i, \"=\", num*i)\n",
    "    i += 1"
   ]
  },
  {
   "cell_type": "markdown",
   "metadata": {},
   "source": [
    "Calculate and display all perfect numbers from 1-50"
   ]
  },
  {
   "cell_type": "code",
   "execution_count": 5,
   "metadata": {},
   "outputs": [
    {
     "name": "stdout",
     "output_type": "stream",
     "text": [
      "Perfect numbers from 1-50 :\n",
      "6 28 "
     ]
    }
   ],
   "source": [
    "i = 1\n",
    "print(\"Perfect numbers from 1-50 :\")\n",
    "while i <= 50:\n",
    "    j = 1\n",
    "    sum = 0\n",
    "    while j < i:\n",
    "        if i % j == 0:\n",
    "            sum += j\n",
    "        j += 1\n",
    "    if sum == i:\n",
    "        print(i, end=\" \")\n",
    "    i += 1"
   ]
  },
  {
   "cell_type": "markdown",
   "metadata": {},
   "source": [
    "ให้นักศึกษาเขียนโปรแกรมแลกเหรียญที่มีคุณสมบัติดังนี้<br>\n",
    "• เมื่อผู้ใช้ใส่จํานวนเงิน (จํานวนเต็ม) ที่ต้องการแลก (สมมุติว่าจ่ายผ่าน Prompt Pay)\n",
    "โปรแกรมก็จะทําการบอกชนิด และ จํานวนเหรียญที่จะได้รับ<br>\n",
    "• เหรียญที่ให้แลกคือเหรียญ 10 บาท 5 บาท และ 1 บาท<br>\n",
    "• ตัวอย่าง เช่น ใส่จํานวนเงิน 28 บาท โปรแกรมก็จะแสดงดังนี้<br>\n",
    "เหรียญ 10 จํานวน 2 เหรียญ<br>\n",
    "เหรียญ 5 จํานวน 1 เหรียญ<br>\n",
    "เหรียญ 1 จํานวน 3 เหรียญ<br>\n",
    "• โปรแกรมจะวนรอบการทําางานจนกระทั่ง เมื่อใส่จําานวนเงิน 0 บาท โปรแกรมจะหยุดทําางาน"
   ]
  },
  {
   "cell_type": "code",
   "execution_count": 9,
   "metadata": {},
   "outputs": [
    {
     "name": "stdout",
     "output_type": "stream",
     "text": [
      "Amount : 6\n",
      "เหรียญ 5 จำนวน 1 เหรียญ\n",
      "เหรียญ 1 จำนวน 1 เหรียญ\n",
      "Amount : 9\n",
      "เหรียญ 5 จำนวน 1 เหรียญ\n",
      "เหรียญ 1 จำนวน 4 เหรียญ\n",
      "Amount : 12\n",
      "เหรียญ 10 จำนวน 1 เหรียญ\n",
      "เหรียญ 1 จำนวน 2 เหรียญ\n",
      "Amount : 0\n",
      "Program End\n"
     ]
    }
   ],
   "source": [
    "run = True\n",
    "while run:\n",
    "    amount = int(input(\"Input amount : \"))\n",
    "    print(\"Amount :\", amount)\n",
    "    if amount != 0:\n",
    "        tens = amount // 10\n",
    "        amount %= 10\n",
    "        fives = amount // 5\n",
    "        amount %= 5\n",
    "        ones = amount // 1\n",
    "        amount %= 1\n",
    "        if tens > 0:\n",
    "            print(\"เหรียญ 10 จำนวน\", tens, \"เหรียญ\")\n",
    "        if fives > 0:\n",
    "            print(\"เหรียญ 5 จำนวน\", fives, \"เหรียญ\")\n",
    "        if ones > 0:\n",
    "            print(\"เหรียญ 1 จำนวน\", ones, \"เหรียญ\")\n",
    "    else:\n",
    "        print(\"Program End\")\n",
    "        run = False"
   ]
  },
  {
   "cell_type": "markdown",
   "metadata": {},
   "source": [
    "สมมุติชาวทุเรียนแห่งหนึ่ง ต้องการโปรแกรมสําหรับ นับจํานวนของลูกทุเรียน และ นํา้หนัก\n",
    "เฉลี่ยของทุเรียนทั้งหมด โดยตูองการจะรับค่านํา้าหนักของทุเรียน ทีละ 1 ลูก ถ้าหมดแล้วจะใส่ค่านํา้\n",
    "หนักของทุเรียน เป็นศูนย์ (zero) โปรแกรมจึงจะแสดงค่าจํานวนของลูกทุเรียน และ นํา้หนักเฉลี่ยของ\n",
    "ทุเรียนทั้งหมด ตัวอย่าง เช่น<br>\n",
    "<br>\n",
    "Please input Durian weight: 3<br>\n",
    "Please input Durian weight: 5<br>\n",
    "Please input Durian weight: 4<br>\n",
    "Please input Durian weight: 0<br>\n",
    "<br>\n",
    "Total of 3 Durians<br>\n",
    "Average weight is 4<br>\n",
    "<br>\n",
    "และให้นศ.เขียน Flowchart พรูอมอธิบายใน youtube video"
   ]
  },
  {
   "cell_type": "code",
   "execution_count": 12,
   "metadata": {},
   "outputs": [
    {
     "name": "stdout",
     "output_type": "stream",
     "text": [
      "Please input Durian weight: 3\n",
      "Please input Durian weight: 5\n",
      "Please input Durian weight: 4\n",
      "Please input Durian weight: 0\n",
      "\n",
      "Total of 3 Durians\n",
      "Average weight is 4\n"
     ]
    }
   ],
   "source": [
    "run = True\n",
    "total = 0\n",
    "sum = 0\n",
    "while run:\n",
    "    weight = int(input(\"Please input Durian weight: \"))\n",
    "    print(\"Please input Durian weight:\", weight)\n",
    "    if weight != 0:\n",
    "        total += 1\n",
    "        sum += weight\n",
    "    else:\n",
    "        print()\n",
    "        print(\"Total of\", total, \"Durians\")\n",
    "        print(\"Average weight is\", sum // total)\n",
    "        run = False"
   ]
  },
  {
   "cell_type": "markdown",
   "metadata": {},
   "source": [
    "สมมุติเกมทายตัวเลข ให้โปรแกรมกําหนดตัวเลขจํานวนเต็ม (หรือสุ่มตัวเลข)\n",
    "ตั้งแต่ 1 ถึง 100 ให้เป็นค่าของตัวแปร x<br>\n",
    "เริ่มเล่นโดยให้ผู้ใช้เดาและใส่ค่าตัวเลขจํานวนเต็ม<br>\n",
    "- ถ้าผู้ใช่เดาถูกต้อง จะจบเกม<br>\n",
    "- ถ้าเดาไม่ถูก จะบอกว่าค่าที่ใส่มานี้ มีค่ามากกว่าหรือน้อยกว่า ค่าของ x\n",
    "แล้วจะให้ผู้ใช้เดาและใส่ค่าตัวเลขอีกครั้ง จนกว่าจะเดาถ้ก และจบโปรแกรม<br>\n",
    "- ผู้ใช้สามารถเลิกเล่นก่อนได้ โดยใส่เลข 0 เพื่อให้โปรแกรมเฉลี่ยค่าของ x และจบโปรแกรม<br>\n",
    "- ให้นศ.หาและทดลองทําาโจทย์เพิ่มเติมจาก Textbook, Internet, แหล่งอื่นๆ\n",
    "เพื่อฝึกการเขียนโปรแกรม<br>\n",
    "- สังเกตและเก็บรวบรวม Error ที่เจอ (พร้อมวิธีแก้ไข)<br>"
   ]
  },
  {
   "cell_type": "code",
   "execution_count": 13,
   "metadata": {},
   "outputs": [
    {
     "name": "stdout",
     "output_type": "stream",
     "text": [
      "2 is lower than x\n",
      "10 is lower than x\n",
      "69 is greater than x\n",
      "50 is greater than x\n",
      "45 is lower than x\n",
      "48 is greater than x\n",
      "46 is lower than x\n",
      "47 is the correct answer\n",
      "Program End\n"
     ]
    }
   ],
   "source": [
    "import random\n",
    "x = random.randint(1, 100)\n",
    "run = True\n",
    "while run:\n",
    "    ans = int(input(\"Input answer : \"))\n",
    "    if ans != 0:\n",
    "        if ans == x:\n",
    "            print(ans, \"is the correct answer\")\n",
    "            print(\"Program End\")\n",
    "            run = False\n",
    "        else:\n",
    "            if ans < x:\n",
    "                print(ans, \"is lower than x\")\n",
    "            else:\n",
    "                print(ans, \"is greater than x\")\n",
    "    else:\n",
    "        print(\"Program End\")\n",
    "        run = False"
   ]
  }
 ],
 "metadata": {
  "kernelspec": {
   "display_name": "Python 3.10.5 64-bit (windows store)",
   "language": "python",
   "name": "python3"
  },
  "language_info": {
   "codemirror_mode": {
    "name": "ipython",
    "version": 3
   },
   "file_extension": ".py",
   "mimetype": "text/x-python",
   "name": "python",
   "nbconvert_exporter": "python",
   "pygments_lexer": "ipython3",
   "version": "3.10.6"
  },
  "orig_nbformat": 4,
  "vscode": {
   "interpreter": {
    "hash": "2192d5d63de93974b6909ff77b922a80909db77769fde9f47799ca66e63e3d8d"
   }
  }
 },
 "nbformat": 4,
 "nbformat_minor": 2
}
