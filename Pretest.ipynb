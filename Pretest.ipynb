{
 "cells": [
  {
   "attachments": {},
   "cell_type": "markdown",
   "metadata": {},
   "source": [
    "### Sort"
   ]
  },
  {
   "attachments": {},
   "cell_type": "markdown",
   "metadata": {},
   "source": [
    "#### Merge sort"
   ]
  },
  {
   "cell_type": "code",
   "execution_count": 37,
   "metadata": {},
   "outputs": [],
   "source": [
    "def merge(s1, s2, s):\n",
    "    i = j = 0\n",
    "    while i + j < len(s):\n",
    "        if j == len(s2) or (i < len(s1) and s1[i] < s2[j]):\n",
    "            s[i+j] = s1[i]\n",
    "            i += 1\n",
    "        else:\n",
    "            s[i+j] = s2[j]\n",
    "            j += 1\n",
    "\n",
    "def merge_sort(s):\n",
    "    if len(s) < 2:\n",
    "        return s\n",
    "    half = len(s) // 2\n",
    "    s1 = s[:half]\n",
    "    s2 = s[half:]\n",
    "    merge_sort(s1)\n",
    "    merge_sort(s2)\n",
    "    merge(s1, s2, s)"
   ]
  },
  {
   "cell_type": "code",
   "execution_count": 38,
   "metadata": {},
   "outputs": [
    {
     "name": "stdout",
     "output_type": "stream",
     "text": [
      "[1, 2, 3, 4, 5, 9]\n"
     ]
    }
   ],
   "source": [
    "A = [3, 9, 2, 1, 4, 5]\n",
    "merge_sort(A)\n",
    "print(A)"
   ]
  },
  {
   "attachments": {},
   "cell_type": "markdown",
   "metadata": {},
   "source": [
    "#### Quick sort"
   ]
  },
  {
   "cell_type": "code",
   "execution_count": 67,
   "metadata": {},
   "outputs": [],
   "source": [
    "def quick_sort(s):\n",
    "    if len(s) < 2:\n",
    "        return\n",
    "    p = s[0]\n",
    "    l = []\n",
    "    e = []\n",
    "    g = []\n",
    "    for i in s:\n",
    "        if i < p:\n",
    "            l.append(i)\n",
    "        elif i > p:\n",
    "            g.append(i)\n",
    "        else:\n",
    "            e.append(i)\n",
    "    quick_sort(l)\n",
    "    quick_sort(g)\n",
    "    for i, e in enumerate(g + e + l):\n",
    "        s[i] = e\n"
   ]
  },
  {
   "cell_type": "code",
   "execution_count": 68,
   "metadata": {},
   "outputs": [
    {
     "name": "stdout",
     "output_type": "stream",
     "text": [
      "[9, 5, 4, 3, 2, 1]\n"
     ]
    }
   ],
   "source": [
    "A = [3, 9, 2, 1, 4, 5]\n",
    "quick_sort(A)\n",
    "print(A)"
   ]
  },
  {
   "attachments": {},
   "cell_type": "markdown",
   "metadata": {},
   "source": [
    "### Heap"
   ]
  },
  {
   "attachments": {},
   "cell_type": "markdown",
   "metadata": {},
   "source": [
    "#### build max heap"
   ]
  },
  {
   "cell_type": "code",
   "execution_count": 1,
   "metadata": {},
   "outputs": [],
   "source": [
    "def heapify(node, A):\n",
    "    if node >= len(A) // 2:\n",
    "        return\n",
    "    max = node\n",
    "    left = 2 * node + 1  # left = 2*i + 1\n",
    "    right = 2 * node + 2  # right = 2*i + 2\n",
    "    if left < len(A) and A[left] > A[max]:\n",
    "        max = left\n",
    "    if right < len(A) and A[right] > A[max]:\n",
    "        max = right\n",
    "    if max != node:\n",
    "        A[max], A[node] = A[node], A[max]\n",
    "        heapify(max, A)\n",
    "\n",
    "def build_max_heap(A, i=0):\n",
    "    last_non_leaf = len(A) // 2 - 1\n",
    "    for i in range(last_non_leaf, -1, -1):\n",
    "        heapify(i, A)"
   ]
  },
  {
   "cell_type": "code",
   "execution_count": 2,
   "metadata": {},
   "outputs": [
    {
     "name": "stdout",
     "output_type": "stream",
     "text": [
      "[9, 4, 5, 1, 3, 2]\n"
     ]
    }
   ],
   "source": [
    "A = [3, 9, 2, 1, 4, 5]\n",
    "build_max_heap(A)\n",
    "print(A)"
   ]
  },
  {
   "attachments": {},
   "cell_type": "markdown",
   "metadata": {},
   "source": [
    "#### heap sort"
   ]
  },
  {
   "cell_type": "code",
   "execution_count": 3,
   "metadata": {},
   "outputs": [],
   "source": [
    "def heap_sort_dsc(A):\n",
    "    build_max_heap(A)\n",
    "    for i in range(len(A)-1, -1, -1):\n",
    "        A[0], A[i] = A[i], A[0]\n",
    "        heapify(i, A)"
   ]
  },
  {
   "cell_type": "code",
   "execution_count": 4,
   "metadata": {},
   "outputs": [
    {
     "name": "stdout",
     "output_type": "stream",
     "text": [
      "[9, 5, 4, 3, 2, 1]\n"
     ]
    }
   ],
   "source": [
    "A = [3, 9, 2, 1, 4, 5]\n",
    "heap_sort_dsc(A)\n",
    "print(A)"
   ]
  },
  {
   "attachments": {},
   "cell_type": "markdown",
   "metadata": {},
   "source": [
    "### Hash map"
   ]
  },
  {
   "cell_type": "code",
   "execution_count": 11,
   "metadata": {},
   "outputs": [
    {
     "name": "stdout",
     "output_type": "stream",
     "text": [
      "2\n"
     ]
    }
   ],
   "source": [
    "def hash_function(key):\n",
    "    mask = (1 << 32) - 1\n",
    "    h = 0\n",
    "    for char in key:\n",
    "        h = (h << 5 & mask) | (h >> 27)\n",
    "        h += ord(char)\n",
    "    return h\n",
    "\n",
    "def rehash(key, L):\n",
    "    return hash_function(key) % L\n",
    "\n",
    "key = \"SecretKey\"\n",
    "print(rehash(key, 11))"
   ]
  },
  {
   "attachments": {},
   "cell_type": "markdown",
   "metadata": {},
   "source": [
    "### Search tree"
   ]
  },
  {
   "cell_type": "code",
   "execution_count": 31,
   "metadata": {},
   "outputs": [],
   "source": [
    "class Node:\n",
    "    def __init__(self, key=None, value=None):\n",
    "        self.key = key\n",
    "        self.value = value\n",
    "        self.left = None\n",
    "        self.right = None\n",
    "\n",
    "class BST:\n",
    "    def __init__(self):\n",
    "        self.root = None\n",
    "\n",
    "    def printTree(self):\n",
    "        if self.root is not None:\n",
    "            self._printTree(self.root)\n",
    "\n",
    "    def _printTree(self, node, level=0):\n",
    "        if node is not None:\n",
    "            self._printTree(node.right, level + 1)\n",
    "            print(' '*level*2 + '(' + str(node.key) + ',' + str(node.value) + ')')\n",
    "            self._printTree(node.left, level + 1)\n",
    "\n",
    "    def __setitem__(self, key, value):\n",
    "        if self.root is None:\n",
    "            self.root = Node(key, value)\n",
    "        else:\n",
    "            self.insert(key, value, self.root)\n",
    "\n",
    "    def __delitem__(self, key):\n",
    "        self.root = self.delete(key, self.root)\n",
    "\n",
    "    def search(self, key, node):\n",
    "        if key == node.key:\n",
    "            return node.value\n",
    "        elif key < node.key and node.left is not None:\n",
    "            return self.search(key, node.left)\n",
    "        elif key > node.key and node.right is not None:\n",
    "            return self.search(key, node.right)\n",
    "        return None\n",
    "            \n",
    "    def search_node(self, key, node):\n",
    "        if key < node.key and node.left is not None:\n",
    "            return self.search_node(key, node.left)\n",
    "        elif key > node.key and node.right is not None:\n",
    "            return self.search_node(key, node.right)\n",
    "        return node\n",
    "        \n",
    "    def insert(self, key, value, node):\n",
    "        node = self.search_node(key, node)\n",
    "        if key == node.key:\n",
    "            node.value = value\n",
    "        elif key < node.key:\n",
    "            node.left = Node(key, value)\n",
    "        else:\n",
    "            node.right = Node(key, value)\n",
    "\n",
    "    def maxValueNode(self, node):\n",
    "        current = node\n",
    "        while(current.right is not None):\n",
    "            current = current.right\n",
    "        return current\n",
    "\n",
    "    def delete(self, key, node):\n",
    "        if node.key == None:\n",
    "            return None\n",
    "        if key == node.key:\n",
    "            if node.left is None:\n",
    "                node = node.right\n",
    "            elif node.right is None:\n",
    "                node = node.left\n",
    "            else:\n",
    "                predecessor = self.maxValueNode(node.left)\n",
    "                node.key = predecessor.key\n",
    "                node.value = predecessor.value\n",
    "                node.left = self.delete(node.key, node.left)\n",
    "        elif key < node.key:\n",
    "            node.left = self.delete(key, node.left)\n",
    "        elif key > node.key:\n",
    "            node.right = self.delete(key, node.right)\n",
    "        return node"
   ]
  },
  {
   "cell_type": "code",
   "execution_count": 32,
   "metadata": {},
   "outputs": [
    {
     "name": "stdout",
     "output_type": "stream",
     "text": [
      "  (2,c)\n",
      "(0,a)\n"
     ]
    }
   ],
   "source": [
    "tree = BST()\n",
    "tree[1] = \"b\"\n",
    "tree[0] = \"a\"\n",
    "tree[2] = \"c\"\n",
    "del tree[1]\n",
    "tree.printTree()"
   ]
  }
 ],
 "metadata": {
  "kernelspec": {
   "display_name": "venv",
   "language": "python",
   "name": "python3"
  },
  "language_info": {
   "codemirror_mode": {
    "name": "ipython",
    "version": 3
   },
   "file_extension": ".py",
   "mimetype": "text/x-python",
   "name": "python",
   "nbconvert_exporter": "python",
   "pygments_lexer": "ipython3",
   "version": "3.11.2"
  },
  "orig_nbformat": 4
 },
 "nbformat": 4,
 "nbformat_minor": 2
}
